{
 "cells": [
  {
   "cell_type": "code",
   "execution_count": 176,
   "metadata": {},
   "outputs": [],
   "source": [
    "from pprint import pprint\n",
    "from bs4 import BeautifulSoup\n",
    "import requests\n",
    "import pandas as pd\n",
    "import json"
   ]
  },
  {
   "cell_type": "code",
   "execution_count": 177,
   "metadata": {},
   "outputs": [],
   "source": [
    "headers = {\n",
    "    'User-Agent': 'Mozilla/5.0 (Windows NT 10.0; Win64; x64) AppleWebKit/537.36 (KHTML, like Gecko) Chrome/91.0.4472.124 Safari/537.36'\n",
    "}\n",
    "\n",
    "url ='https://leandrolessa.com.br/coleta-de-dados-na-web/'\n",
    "\n",
    "response = requests.get(url, headers=headers)\n",
    "soup = BeautifulSoup(response.content, 'html.parser')\n",
    "\n",
    "# Localiza a tabela pelo ID\n",
    "table = soup.find('table', {'id': 'tablepress-1'})\n",
    "\n",
    "# Extrai os cabeçalhos da tabela\n",
    "headers = [header.text.strip() for header in table.find_all('th')]\n",
    "\n",
    "# Extrai as linhas da tabela\n",
    "rows = table.find_all('tr')[1:]  # Ignora o cabeçalho\n",
    "# Preenche diretamente em uma variável tipo lista de dicionário\n",
    "data = []\n",
    "for row in rows:\n",
    "    values = [cell.text.strip() for cell in row.find_all('td')]\n",
    "    data.append(dict(zip(headers, values)))\n",
    "\n",
    "# Converte para JSON e depois para lista de dicionários\n",
    "json_data = json.dumps(data)\n",
    "dict_list = json.loads(json_data)"
   ]
  },
  {
   "cell_type": "code",
   "execution_count": 200,
   "metadata": {},
   "outputs": [
    {
     "name": "stdout",
     "output_type": "stream",
     "text": [
      "<class 'pandas.core.frame.DataFrame'>\n",
      "Index: 5 entries, 1 to 5\n",
      "Data columns (total 1 columns):\n",
      " #   Column  Non-Null Count  Dtype \n",
      "---  ------  --------------  ----- \n",
      " 0   classe  5 non-null      object\n",
      "dtypes: object(1)\n",
      "memory usage: 80.0+ bytes\n",
      "None\n"
     ]
    }
   ],
   "source": [
    "# Criação do DataFrame tb_classe_produto\n",
    "tb_classe_produto = pd.DataFrame(dict_list)[['cod_classe_produto', 'classe_produto']].drop_duplicates()\n",
    "\n",
    "# Renomeia as colunas para os nomes desejados\n",
    "tb_classe_produto.rename(columns={'cod_classe_produto': 'cod_classe', 'classe_produto': 'classe'}, inplace=True)\n",
    "\n",
    "# Define o campo 'cod_classe' como chave primária\n",
    "tb_classe_produto.set_index('cod_classe', inplace=True)\n",
    "\n",
    "# Exibe o DataFrame resultante\n",
    "print(tb_classe_produto.info())"
   ]
  },
  {
   "cell_type": "code",
   "execution_count": 179,
   "metadata": {},
   "outputs": [
    {
     "name": "stdout",
     "output_type": "stream",
     "text": [
      "                       prod cod_classe\n",
      "cod_produto                           \n",
      "1000            Sabão em pó          1\n",
      "1001              Amaciante          1\n",
      "1002             Detergente          1\n",
      "1003         Água sanitária          1\n",
      "1004         Esponja de aço          1\n",
      "...                     ...        ...\n",
      "1082                  Peixe          5\n",
      "1083                 Frango          5\n",
      "1084         Carne vermelha          5\n",
      "1085             Carne seca          5\n",
      "1086               Salsicha          5\n",
      "\n",
      "[87 rows x 2 columns]\n"
     ]
    }
   ],
   "source": [
    "# Criação do DataFrame tb_produto\n",
    "tb_produto = pd.DataFrame(dict_list)[['cod_produto', 'nome_produto', 'cod_classe_produto']]\n",
    "\n",
    "# Renomeia as colunas para os nomes desejados\n",
    "tb_produto.rename(columns={'cod_produto': 'cod_produto', 'nome_produto': 'prod', 'cod_classe_produto': 'cod_classe'}, inplace=True)\n",
    "\n",
    "# Define o campo 'cod_produto' como chave primária\n",
    "tb_produto.set_index('cod_produto', inplace=True)\n",
    "\n",
    "# Exibe o DataFrame resultante\n",
    "print(tb_produto)"
   ]
  },
  {
   "cell_type": "code",
   "execution_count": 181,
   "metadata": {},
   "outputs": [
    {
     "name": "stdout",
     "output_type": "stream",
     "text": [
      "           sigla               estado        regiao    pais\n",
      "cod_estado                                                 \n",
      "1             AC                 Acre         Norte  Brasil\n",
      "2             AL              Alagoas      Nordeste  Brasil\n",
      "3             AP                Amapá         Norte  Brasil\n",
      "4             AM             Amazonas         Norte  Brasil\n",
      "5             BA                Bahia      Nordeste  Brasil\n",
      "6             CE                Ceará      Nordeste  Brasil\n",
      "7             DF     Distrito Federal  Centro-Oeste  Brasil\n",
      "8             ES       Espírito Santo       Sudeste  Brasil\n",
      "9             GO                Goiás  Centro-Oeste  Brasil\n",
      "10            MA             Maranhão      Nordeste  Brasil\n",
      "11            MT          Mato Grosso  Centro-Oeste  Brasil\n",
      "12            MS   Mato Grosso do Sul  Centro-Oeste  Brasil\n",
      "13            MG         Minas Gerais       Sudeste  Brasil\n",
      "14            PA                 Pará         Norte  Brasil\n",
      "15            PB              Paraíba      Nordeste  Brasil\n",
      "16            PR               Paraná           Sul  Brasil\n",
      "17            PE           Pernambuco      Nordeste  Brasil\n",
      "18            PI                Piauí      Nordeste  Brasil\n",
      "19            RJ       Rio de Janeiro       Sudeste  Brasil\n",
      "20            RN  Rio Grande do Norte      Nordeste  Brasil\n",
      "21            RS    Rio Grande do Sul           Sul  Brasil\n",
      "22            RO             Rondônia         Norte  Brasil\n",
      "23            RR              Roraima         Norte  Brasil\n",
      "24            SC       Santa Catarina           Sul  Brasil\n",
      "25            SP            São Paulo       Sudeste  Brasil\n",
      "26            SE              Sergipe      Nordeste  Brasil\n",
      "27            TO            Tocantins         Norte  Brasil\n"
     ]
    }
   ],
   "source": [
    "# Criação do DataFrame df_estado_regiao com as colunas renomeadas\n",
    "tb_estado = pd.read_csv('estado_regiao.csv', sep=';', encoding='utf-8')\n",
    "\n",
    "# Renomeia as colunas\n",
    "tb_estado.rename(columns={'id_estado': 'cod_estado'}, inplace=True)\n",
    "\n",
    "# Define 'cod_estado' como chave primária\n",
    "tb_estado.set_index('cod_estado', inplace=True)\n",
    "\n",
    "# Exibe o DataFrame resultante\n",
    "print(tb_estado)"
   ]
  },
  {
   "cell_type": "code",
   "execution_count": 182,
   "metadata": {},
   "outputs": [
    {
     "name": "stdout",
     "output_type": "stream",
     "text": [
      "<class 'pandas.core.frame.DataFrame'>\n",
      "Index: 3000 entries, 1 to 3000\n",
      "Data columns (total 6 columns):\n",
      " #   Column      Non-Null Count  Dtype \n",
      "---  ------      --------------  ----- \n",
      " 0   cod_estado  3000 non-null   int64 \n",
      " 1   sexo        3000 non-null   object\n",
      " 2   idade       3000 non-null   int64 \n",
      " 3   qtd_filhos  3000 non-null   int64 \n",
      " 4   hipertenso  3000 non-null   int64 \n",
      " 5   diabetes    3000 non-null   int64 \n",
      "dtypes: int64(5), object(1)\n",
      "memory usage: 164.1+ KB\n",
      "None\n"
     ]
    }
   ],
   "source": [
    "# Carrega o arquivo JSON em um DataFrame\n",
    "with open('dados_clientes.json', encoding='latin1') as f:\n",
    "    data = json.load(f)\n",
    "\n",
    "# Criação do DataFrame tb_clientes\n",
    "tb_clientes = pd.DataFrame(data['cliente'])[['cod_cliente', 'cod_estado', 'sexo', 'idade', 'qtd_filhos', 'hipertenso', 'diabetes']]\n",
    "\n",
    "# Define o campo 'cod_cliente' como chave primária\n",
    "tb_clientes.set_index('cod_cliente', inplace=True)\n",
    "\n",
    "# Exibe o DataFrame resultante\n",
    "print(tb_clientes.info())"
   ]
  },
  {
   "cell_type": "code",
   "execution_count": 196,
   "metadata": {},
   "outputs": [
    {
     "name": "stdout",
     "output_type": "stream",
     "text": [
      "Dados ausentes em 'cod_produto': 10\n",
      "<class 'pandas.core.frame.DataFrame'>\n",
      "Index: 2990 entries, 0 to 2999\n",
      "Data columns (total 5 columns):\n",
      " #   Column              Non-Null Count  Dtype  \n",
      "---  ------              --------------  -----  \n",
      " 0   cod_cliente         2990 non-null   int64  \n",
      " 1   cod_produto         2990 non-null   int64  \n",
      " 2   qtd_produto         2990 non-null   int64  \n",
      " 3   valor_unitario      2985 non-null   float64\n",
      " 4   valor_total_compra  2969 non-null   float64\n",
      "dtypes: float64(2), int64(3)\n",
      "memory usage: 140.2 KB\n",
      "None\n"
     ]
    }
   ],
   "source": [
    "# Carrega o arquivo Excel em um DataFrame\n",
    "df_compras = pd.read_excel('compras.xls')\n",
    "\n",
    "# Verifica os dados ausentes na coluna 'cod_produto'\n",
    "print(f\"Dados ausentes em 'cod_produto': {df_compras['cod_produto'].isna().sum()}\")\n",
    "\n",
    "# Remove as linhas com valores nulos em 'cod_produto'\n",
    "df_compras.dropna(subset=['cod_produto'], inplace=True)\n",
    "\n",
    "# Cria o DataFrame tb_compra\n",
    "tb_compra = df_compras\n",
    "\n",
    "# Exibe informações sobre o DataFrame resultante\n",
    "# Ajusta o tipo da coluna 'cod_produto' para int64\n",
    "tb_compra['cod_produto'] = tb_compra['cod_produto'].astype('int64')\n",
    "\n",
    "# Exibe informações sobre o DataFrame resultante\n",
    "print(tb_compra.info())"
   ]
  },
  {
   "cell_type": "code",
   "execution_count": 212,
   "metadata": {},
   "outputs": [
    {
     "name": "stdout",
     "output_type": "stream",
     "text": [
      "                       prod cod_classe               classe\n",
      "cod_produto                                                \n",
      "1000            Sabão em pó          1  Produtos de Limpeza\n",
      "1001              Amaciante          1  Produtos de Limpeza\n",
      "1002             Detergente          1  Produtos de Limpeza\n",
      "1003         Água sanitária          1  Produtos de Limpeza\n",
      "1004         Esponja de aço          1  Produtos de Limpeza\n",
      "...                     ...        ...                  ...\n",
      "1082                  Peixe          5       Carnes e Frios\n",
      "1083                 Frango          5       Carnes e Frios\n",
      "1084         Carne vermelha          5       Carnes e Frios\n",
      "1085             Carne seca          5       Carnes e Frios\n",
      "1086               Salsicha          5       Carnes e Frios\n",
      "\n",
      "[87 rows x 3 columns]\n"
     ]
    }
   ],
   "source": [
    "# Faz a associação entre tb_produto e tb_classe_produto\n",
    "tb_produto_classe = tb_produto.merge(tb_classe_produto, left_on='cod_classe', right_index=True, how='left')\n",
    "\n",
    "# Exibe o DataFrame resultante\n",
    "print(tb_produto_classe)"
   ]
  },
  {
   "cell_type": "code",
   "execution_count": 211,
   "metadata": {},
   "outputs": [
    {
     "name": "stdout",
     "output_type": "stream",
     "text": [
      "            sigla       sexo  idade  qtd_filhos  hipertenso  diabetes\n",
      "cod_cliente                                                          \n",
      "1              MG   feminino     26           2           0         1\n",
      "2              AL   feminino     58           0           0         0\n",
      "3              MT   feminino     63           1           1         1\n",
      "4              MT   feminino     58           2           1         1\n",
      "5              BA  masculino     70           0           0         1\n",
      "...           ...        ...    ...         ...         ...       ...\n",
      "2996           MS   feminino     63           1           0         1\n",
      "2997           DF   feminino     35           0           0         0\n",
      "2998           MT   feminino     35           2           0         0\n",
      "2999           RN   feminino     20           0           1         0\n",
      "3000           MT  masculino     73           0           1         1\n",
      "\n",
      "[3000 rows x 6 columns]\n"
     ]
    }
   ],
   "source": [
    "# Faz a associação entre tb_clientes e tb_estado\n",
    "tb_clientes_estado = tb_clientes.merge(tb_estado[['sigla']], left_on='cod_estado', right_index=True, how='left')\n",
    "\n",
    "# Exibe o DataFrame resultante\n",
    "# Exibe todos os campos do DataFrame resultante\n",
    "print(tb_clientes_estado[['sigla', 'sexo', 'idade', 'qtd_filhos', 'hipertenso', 'diabetes']])"
   ]
  },
  {
   "cell_type": "code",
   "execution_count": 215,
   "metadata": {},
   "outputs": [
    {
     "name": "stdout",
     "output_type": "stream",
     "text": [
      "<class 'pandas.core.frame.DataFrame'>\n",
      "Index: 2990 entries, 0 to 2999\n",
      "Data columns (total 15 columns):\n",
      " #   Column              Non-Null Count  Dtype  \n",
      "---  ------              --------------  -----  \n",
      " 0   cod_cliente         2990 non-null   int64  \n",
      " 1   cod_produto         2990 non-null   object \n",
      " 2   qtd_produto         2990 non-null   int64  \n",
      " 3   valor_unitario      2985 non-null   float64\n",
      " 4   valor_total_compra  2969 non-null   float64\n",
      " 5   cod_estado          2990 non-null   int64  \n",
      " 6   sexo                2990 non-null   object \n",
      " 7   idade               2990 non-null   int64  \n",
      " 8   qtd_filhos          2990 non-null   int64  \n",
      " 9   hipertenso          2990 non-null   int64  \n",
      " 10  diabetes            2990 non-null   int64  \n",
      " 11  sigla               2990 non-null   object \n",
      " 12  prod                2990 non-null   object \n",
      " 13  cod_classe          2990 non-null   object \n",
      " 14  classe              2990 non-null   object \n",
      "dtypes: float64(2), int64(7), object(6)\n",
      "memory usage: 373.8+ KB\n",
      "None\n"
     ]
    }
   ],
   "source": [
    "# Faz a associação entre tb_compra e tb_clientes_estado\n",
    "tb_compra_clientes = tb_compra.merge(tb_clientes_estado, left_on='cod_cliente', right_index=True, how='left')\n",
    "\n",
    "# Exibe o DataFrame resultante\n",
    "# Faz a associação para tb_produto_classe pelo cod_produto\n",
    "tb_compra_clientes_produto = tb_compra_clientes.merge(tb_produto_classe, left_on='cod_produto', right_index=True, how='left')\n",
    "\n",
    "# Exibe o DataFrame resultante\n",
    "print(tb_compra_clientes_produto.info())"
   ]
  },
  {
   "cell_type": "code",
   "execution_count": 216,
   "metadata": {},
   "outputs": [
    {
     "name": "stdout",
     "output_type": "stream",
     "text": [
      "A categoria com a maior média de valor total em compras para residentes de MG é 'Carnes e Frios' com uma média de 78.43.\n"
     ]
    }
   ],
   "source": [
    "# Filtra os residentes de Minas Gerais\n",
    "mg_data = tb_compra_clientes_produto[tb_compra_clientes_produto['sigla'] == 'MG']\n",
    "\n",
    "# Calcula a média do valor total das compras por categoria (classe)\n",
    "mean_values_by_class = mg_data.groupby('classe')['valor_total_compra'].mean()\n",
    "\n",
    "# Identifica a categoria com a maior média\n",
    "highest_avg_category = mean_values_by_class.idxmax()\n",
    "highest_avg_value = mean_values_by_class.max()\n",
    "\n",
    "print(f\"A categoria com a maior média de valor total em compras para residentes de MG é '{highest_avg_category}' com uma média de {highest_avg_value:.2f}.\")"
   ]
  },
  {
   "cell_type": "code",
   "execution_count": 217,
   "metadata": {},
   "outputs": [
    {
     "name": "stdout",
     "output_type": "stream",
     "text": [
      "O produto com o maior número de vendas entre consumidores diagnosticados com diabetes é 'Achocolatado' com 78 unidades vendidas.\n"
     ]
    }
   ],
   "source": [
    "# Filtra os consumidores diagnosticados com diabetes\n",
    "diabetes_data = tb_compra_clientes_produto[tb_compra_clientes_produto['diabetes'] == 1]\n",
    "\n",
    "# Agrupa os dados pelo produto e soma a quantidade de produtos vendidos\n",
    "sales_by_product = diabetes_data.groupby('prod')['qtd_produto'].sum()\n",
    "\n",
    "# Identifica o produto com o maior número de vendas\n",
    "most_sold_product = sales_by_product.idxmax()\n",
    "most_sold_quantity = sales_by_product.max()\n",
    "\n",
    "print(f\"O produto com o maior número de vendas entre consumidores diagnosticados com diabetes é '{most_sold_product}' com {most_sold_quantity} unidades vendidas.\")"
   ]
  },
  {
   "cell_type": "code",
   "execution_count": 218,
   "metadata": {},
   "outputs": [
    {
     "name": "stdout",
     "output_type": "stream",
     "text": [
      "O grupo com a maior média de idade é 'Homens sem histórico de hipertensão ou diabetes.' com uma média de 47.06 anos.\n"
     ]
    }
   ],
   "source": [
    "# Filtra os grupos com base nas condições fornecidas\n",
    "grupo_1 = tb_compra_clientes_produto[(tb_compra_clientes_produto['sexo'] == 'masculino') &\n",
    "                                     (tb_compra_clientes_produto['hipertenso'] == 1) &\n",
    "                                     (tb_compra_clientes_produto['diabetes'] == 0)]\n",
    "\n",
    "grupo_2 = tb_compra_clientes_produto[(tb_compra_clientes_produto['sexo'] == 'feminino') &\n",
    "                                     (tb_compra_clientes_produto['hipertenso'] == 1) &\n",
    "                                     (tb_compra_clientes_produto['diabetes'] == 0)]\n",
    "\n",
    "grupo_3 = tb_compra_clientes_produto[(tb_compra_clientes_produto['sexo'] == 'masculino') &\n",
    "                                     (tb_compra_clientes_produto['hipertenso'] == 0) &\n",
    "                                     (tb_compra_clientes_produto['diabetes'] == 0)]\n",
    "\n",
    "grupo_4 = tb_compra_clientes_produto[(tb_compra_clientes_produto['sexo'] == 'masculino') &\n",
    "                                     (tb_compra_clientes_produto['hipertenso'] == 1) &\n",
    "                                     (tb_compra_clientes_produto['diabetes'] == 1)]\n",
    "\n",
    "# Calcula a média de idade para cada grupo\n",
    "media_idade_grupo_1 = grupo_1['idade'].mean()\n",
    "media_idade_grupo_2 = grupo_2['idade'].mean()\n",
    "media_idade_grupo_3 = grupo_3['idade'].mean()\n",
    "media_idade_grupo_4 = grupo_4['idade'].mean()\n",
    "\n",
    "# Identifica o grupo com a maior média de idade\n",
    "medias = {\n",
    "    \"Homem com histórico de hipertensão, mas sem histórico de diabetes.\": media_idade_grupo_1,\n",
    "    \"Mulheres com histórico de hipertensão, mas sem histórico de diabetes.\": media_idade_grupo_2,\n",
    "    \"Homens sem histórico de hipertensão ou diabetes.\": media_idade_grupo_3,\n",
    "    \"Homem com histórico de hipertensão e diabetes.\": media_idade_grupo_4\n",
    "}\n",
    "\n",
    "grupo_maior_media = max(medias, key=medias.get)\n",
    "maior_media = medias[grupo_maior_media]\n",
    "\n",
    "print(f\"O grupo com a maior média de idade é '{grupo_maior_media}' com uma média de {maior_media:.2f} anos.\")"
   ]
  },
  {
   "cell_type": "code",
   "execution_count": 226,
   "metadata": {},
   "outputs": [
    {
     "name": "stdout",
     "output_type": "stream",
     "text": [
      "A região com o maior valor total de compras é 'Nordeste' com um total de 21528.46.\n"
     ]
    }
   ],
   "source": [
    "# Agrupa os dados de tb_compra_clientes_produto_regiao por região e soma o valor total das compras\n",
    "valor_total_por_regiao = tb_compra_clientes_produto_regiao.groupby('regiao')['valor_total_compra'].sum()\n",
    "\n",
    "# Identifica a região com o maior valor total de compras\n",
    "regiao_maior_valor = valor_total_por_regiao.idxmax()\n",
    "maior_valor = valor_total_por_regiao.max()\n",
    "\n",
    "print(f\"A região com o maior valor total de compras é '{regiao_maior_valor}' com um total de {maior_valor:.2f}.\")"
   ]
  },
  {
   "cell_type": "code",
   "execution_count": 220,
   "metadata": {},
   "outputs": [
    {
     "name": "stdout",
     "output_type": "stream",
     "text": [
      "A classe de produto com o menor número de compras entre pessoas diagnosticadas com hipertensão e diabetes é 'Bebidas' com 115 compras.\n"
     ]
    }
   ],
   "source": [
    "# Filtra os consumidores diagnosticados com hipertensão e diabetes\n",
    "hipertensao_diabetes_data = tb_compra_clientes_produto[(tb_compra_clientes_produto['hipertenso'] == 1) &\n",
    "                                                       (tb_compra_clientes_produto['diabetes'] == 1)]\n",
    "\n",
    "# Agrupa os dados pela classe de produto e soma a quantidade de produtos comprados\n",
    "compras_por_classe = hipertensao_diabetes_data.groupby('classe')['qtd_produto'].sum()\n",
    "\n",
    "# Identifica a classe com o menor número de compras\n",
    "classe_menor_compras = compras_por_classe.idxmin()\n",
    "menor_compras = compras_por_classe.min()\n",
    "\n",
    "print(f\"A classe de produto com o menor número de compras entre pessoas diagnosticadas com hipertensão e diabetes é '{classe_menor_compras}' com {menor_compras} compras.\")"
   ]
  },
  {
   "cell_type": "code",
   "execution_count": 229,
   "metadata": {},
   "outputs": [
    {
     "name": "stdout",
     "output_type": "stream",
     "text": [
      "prod\n",
      "Bolacha      5\n",
      "Fubá        25\n",
      "Presunto    18\n",
      "Sardinha    25\n",
      "Name: qtd_produto, dtype: int64\n",
      "O produto com o maior número de compras para os residentes da região Sudeste é 'Óleo de cozinha' com 28 unidades compradas.\n"
     ]
    }
   ],
   "source": [
    "# Filtra os dados para a região Sudeste\n",
    "sudeste_data = tb_compra_clientes_produto_regiao[tb_compra_clientes_produto_regiao['regiao'] == 'Sudeste']\n",
    "\n",
    "# Agrupa os dados pelo produto e soma a quantidade de produtos comprados\n",
    "compras_por_produto = sudeste_data.groupby('prod')['qtd_produto'].sum()\n",
    "\n",
    "# Identifica o produto com o maior número de compras\n",
    "produto_mais_comprado = compras_por_produto.idxmax()\n",
    "quantidade_mais_comprada = compras_por_produto.max()\n",
    "# Filtra os itens específicos e calcula a contagem\n",
    "itens_especificos = ['Fubá', 'Presunto', 'Bolacha', 'Sardinha']\n",
    "contagem_itens = compras_por_produto[compras_por_produto.index.isin(itens_especificos)]\n",
    "\n",
    "# Exibe a contagem dos itens\n",
    "print(contagem_itens)\n",
    "print(f\"O produto com o maior número de compras para os residentes da região Sudeste é '{produto_mais_comprado}' com {quantidade_mais_comprada} unidades compradas.\")"
   ]
  },
  {
   "cell_type": "code",
   "execution_count": null,
   "metadata": {},
   "outputs": [],
   "source": [
    "db.createCollection('forum_debates')\n"
   ]
  },
  {
   "cell_type": "code",
   "execution_count": null,
   "metadata": {},
   "outputs": [],
   "source": []
  },
  {
   "cell_type": "code",
   "execution_count": null,
   "metadata": {},
   "outputs": [],
   "source": []
  }
 ],
 "metadata": {
  "kernelspec": {
   "display_name": "Python 3",
   "language": "python",
   "name": "python3"
  },
  "language_info": {
   "codemirror_mode": {
    "name": "ipython",
    "version": 3
   },
   "file_extension": ".py",
   "mimetype": "text/x-python",
   "name": "python",
   "nbconvert_exporter": "python",
   "pygments_lexer": "ipython3",
   "version": "3.12.1"
  }
 },
 "nbformat": 4,
 "nbformat_minor": 2
}
