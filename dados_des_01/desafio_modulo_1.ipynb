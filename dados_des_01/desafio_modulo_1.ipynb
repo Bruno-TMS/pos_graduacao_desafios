{
 "cells": [
  {
   "cell_type": "markdown",
   "metadata": {},
   "source": [
    "### Intro, importando bibliotecas e fazendo análises básicas."
   ]
  },
  {
   "cell_type": "code",
   "execution_count": 31,
   "metadata": {},
   "outputs": [],
   "source": [
    "# Importando bibliotecas necessárias\n",
    "import pandas as pd\n",
    "import numpy as np\n",
    "from sklearn.cluster import KMeans\n",
    "import matplotlib.pyplot as plt\n",
    "import seaborn as sns\n",
    "\n",
    "# 1. Coleta de dados\n",
    "dados_clinicos = pd.read_csv('dados_clinicos.csv', sep=';', encoding='utf-8')\n",
    "estado_regiao = pd.read_csv('estado_regiao.csv', sep=';', encoding='utf-8')\n",
    "dados_pacientes = pd.read_csv('dados_pacientes.csv', sep=';', encoding='utf-8')"
   ]
  },
  {
   "cell_type": "code",
   "execution_count": 21,
   "metadata": {},
   "outputs": [
    {
     "name": "stdout",
     "output_type": "stream",
     "text": [
      "--------------------------------------------------\n",
      "dados_clinicos INFO:\n",
      "<class 'pandas.core.frame.DataFrame'>\n",
      "RangeIndex: 590 entries, 0 to 589\n",
      "Data columns (total 4 columns):\n",
      " #   Column      Non-Null Count  Dtype  \n",
      "---  ------      --------------  -----  \n",
      " 0   id_cliente  590 non-null    int64  \n",
      " 1   peso        585 non-null    float64\n",
      " 2   colesterol  590 non-null    int64  \n",
      " 3   genero      590 non-null    object \n",
      "dtypes: float64(1), int64(2), object(1)\n",
      "memory usage: 18.6+ KB\n",
      "None\n",
      "--------------------------------------------------\n",
      "dados_clinicos HEAD:\n",
      "   id_cliente   peso  colesterol     genero\n",
      "0           1  102.0         111  Masculino\n",
      "1           2  115.0         135  Masculino\n",
      "2           3  115.0         136  Masculino\n",
      "3           4  140.0         167   Feminino\n",
      "4           5  130.0         158  Masculino\n",
      "--------------------------------------------------\n"
     ]
    }
   ],
   "source": [
    "print(f'{\"-\"*50}')\n",
    "print(f'dados_clinicos INFO:')\n",
    "print(f'{dados_clinicos.info()}')\n",
    "print(f'{\"-\"*50}')\n",
    "print(f'dados_clinicos HEAD:')\n",
    "print(f'{dados_clinicos.head()}')\n",
    "print(f'{\"-\"*50}')"
   ]
  },
  {
   "cell_type": "code",
   "execution_count": 22,
   "metadata": {},
   "outputs": [
    {
     "name": "stdout",
     "output_type": "stream",
     "text": [
      "dados_clinicos DESCRIBE:\n",
      "       id_cliente        peso  colesterol\n",
      "count  590.000000  585.000000  590.000000\n",
      "mean   283.696610  143.158974  170.067797\n",
      "std    156.464182   30.925402   39.325409\n",
      "min      1.000000   95.000000  102.000000\n",
      "25%    148.250000  116.000000  135.250000\n",
      "50%    295.500000  140.000000  169.000000\n",
      "75%    424.750000  171.000000  207.750000\n",
      "max    547.000000  203.000000  235.000000\n"
     ]
    }
   ],
   "source": [
    "print(f'dados_clinicos DESCRIBE:')\n",
    "print(f'{dados_clinicos.describe()}')"
   ]
  },
  {
   "cell_type": "code",
   "execution_count": 23,
   "metadata": {},
   "outputs": [
    {
     "name": "stdout",
     "output_type": "stream",
     "text": [
      "--------------------------------------------------\n",
      "dados_pacientes INFO:\n",
      "<class 'pandas.core.frame.DataFrame'>\n",
      "RangeIndex: 7999 entries, 0 to 7998\n",
      "Data columns (total 9 columns):\n",
      " #   Column                          Non-Null Count  Dtype \n",
      "---  ------                          --------------  ----- \n",
      " 0   id_cliente                      7999 non-null   int64 \n",
      " 1    idade                          7999 non-null   int64 \n",
      " 2    classe_trabalho                7999 non-null   object\n",
      " 3    escolaridade                   7999 non-null   object\n",
      " 4    id_estado                      7999 non-null   int64 \n",
      " 5    estado_civil                   7999 non-null   object\n",
      " 6    raca                           7999 non-null   object\n",
      " 7    qtde_filhos                    7999 non-null   object\n",
      " 8    salario                        7999 non-null   int64 \n",
      "dtypes: int64(4), object(5)\n",
      "memory usage: 562.6+ KB\n",
      "None\n",
      "--------------------------------------------------\n",
      "dados_pacientes HEAD:\n",
      "   id_cliente   idade   classe_trabalho            \\\n",
      "0           1      39   Servidor Público            \n",
      "1           2      50   Autônomo                    \n",
      "2           3      38   Funcionário Setor Privado   \n",
      "3           4      53   Funcionário Setor Privado   \n",
      "4           5      28   Funcionário Setor Privado   \n",
      "\n",
      "    escolaridade                    id_estado   estado_civil    raca      \\\n",
      "0   Ensino Médio Completo                   2   Solteiro        Branco     \n",
      "1   Superior Incompleto                    24   Casado          Branco     \n",
      "2   Ensino Médio Incompleto                 4   Divorciado      Branco     \n",
      "3   Ensino Médio Incompleto                24   Casado          Negro      \n",
      "4   Ensino Médio Completo                  15   Casado          Negro      \n",
      "\n",
      "    qtde_filhos   salario  \n",
      "0             2      4754  \n",
      "1             1      3923  \n",
      "2             0      1100  \n",
      "3             1      1100  \n",
      "4             0      3430  \n",
      "--------------------------------------------------\n"
     ]
    }
   ],
   "source": [
    "print(f'{\"-\"*50}')\n",
    "print(f'dados_pacientes INFO:')\n",
    "print(f'{dados_pacientes.info()}')\n",
    "print(f'{\"-\"*50}')\n",
    "print(f'dados_pacientes HEAD:')\n",
    "print(f'{dados_pacientes.head()}')\n",
    "print(f'{\"-\"*50}')"
   ]
  },
  {
   "cell_type": "code",
   "execution_count": 24,
   "metadata": {},
   "outputs": [
    {
     "name": "stdout",
     "output_type": "stream",
     "text": [
      "dados_clinicos DESCRIBE:\n",
      "        id_cliente        idade    id_estado       salario\n",
      "count  7999.000000  7999.000000  7999.000000   7999.000000\n",
      "mean   4000.000000    38.477060    14.094012   3169.312664\n",
      "std    2309.256735    13.568667     7.821634   3055.862493\n",
      "min       1.000000    17.000000     1.000000      0.000000\n",
      "25%    2000.500000    28.000000     7.000000   1100.000000\n",
      "50%    4000.000000    37.000000    14.000000   2410.000000\n",
      "75%    5999.500000    47.000000    21.000000   3640.500000\n",
      "max    7999.000000    90.000000    27.000000  19994.000000\n"
     ]
    }
   ],
   "source": [
    "print(f'dados_clinicos DESCRIBE:')\n",
    "print(f'{dados_pacientes.describe()}')"
   ]
  },
  {
   "cell_type": "code",
   "execution_count": 25,
   "metadata": {},
   "outputs": [
    {
     "name": "stdout",
     "output_type": "stream",
     "text": [
      "Valores nulos de dados_clinicos:id_cliente    0\n",
      "peso          5\n",
      "colesterol    0\n",
      "genero        0\n",
      "dtype: int64\n",
      "--------------------------------------------------\n",
      "\n",
      "Valores nulos de dados_pacientes:id_cliente                        0\n",
      " idade                            0\n",
      " classe_trabalho                  0\n",
      " escolaridade                     0\n",
      " id_estado                        0\n",
      " estado_civil                     0\n",
      " raca                             0\n",
      " qtde_filhos                      0\n",
      " salario                          0\n",
      "dtype: int64\n",
      "--------------------------------------------------\n",
      "\n",
      "Valores nulos de dados_clinicos:id_estado    0\n",
      "sigla        0\n",
      "estado       0\n",
      "regiao       0\n",
      "pais         0\n",
      "dtype: int64\n",
      "--------------------------------------------------\n",
      "\n"
     ]
    }
   ],
   "source": [
    "print(f'Valores nulos de dados_clinicos:{dados_clinicos.isna().sum()}\\n{\"-\"*50}\\n')\n",
    "print(f'Valores nulos de dados_pacientes:{dados_pacientes.isna().sum()}\\n{\"-\"*50}\\n')\n",
    "print(f'Valores nulos de dados_clinicos:{estado_regiao.isna().sum()}\\n{\"-\"*50}\\n')"
   ]
  },
  {
   "cell_type": "code",
   "execution_count": 26,
   "metadata": {},
   "outputs": [
    {
     "name": "stdout",
     "output_type": "stream",
     "text": [
      "Valores nulos de dados_clinicos:     id_cliente  peso  colesterol     genero\n",
      "63           64   NaN         211  Masculino\n",
      "101         102   NaN         230   Feminino\n",
      "146         147   NaN         171  Masculino\n",
      "195         196   NaN         143   Feminino\n",
      "215         216   NaN         180  Masculino\n",
      "--------------------------------------------------\n",
      "\n"
     ]
    }
   ],
   "source": [
    "print(f'Valores nulos de dados_clinicos:{dados_clinicos.loc[dados_clinicos['peso'].isnull()]}\\n{\"-\"*50}\\n')"
   ]
  },
  {
   "cell_type": "code",
   "execution_count": 27,
   "metadata": {},
   "outputs": [],
   "source": [
    "dados_clinicos.dropna(subset='peso', inplace=True)"
   ]
  },
  {
   "cell_type": "code",
   "execution_count": 28,
   "metadata": {},
   "outputs": [
    {
     "data": {
      "text/plain": [
       "id_cliente    0\n",
       "peso          0\n",
       "colesterol    0\n",
       "genero        0\n",
       "dtype: int64"
      ]
     },
     "execution_count": 28,
     "metadata": {},
     "output_type": "execute_result"
    }
   ],
   "source": [
    "dados_clinicos.isna().sum()"
   ]
  },
  {
   "cell_type": "code",
   "execution_count": 29,
   "metadata": {},
   "outputs": [
    {
     "data": {
      "text/plain": [
       "id_cliente    585\n",
       "peso          585\n",
       "colesterol    585\n",
       "genero        585\n",
       "dtype: int64"
      ]
     },
     "execution_count": 29,
     "metadata": {},
     "output_type": "execute_result"
    }
   ],
   "source": [
    "dados_clinicos.count()"
   ]
  },
  {
   "cell_type": "code",
   "execution_count": 34,
   "metadata": {},
   "outputs": [
    {
     "name": "stdout",
     "output_type": "stream",
     "text": [
      "IDs dos estados do Sudeste: [8, 13, 19, 25]\n",
      "Erro inesperado: 'id_estado'\n"
     ]
    }
   ],
   "source": [
    "import pandas as pd\n",
    "import matplotlib.pyplot as plt\n",
    "\n",
    "\n",
    "try:\n",
    "\n",
    "\n",
    "    # Identificando os id_estado da região Sudeste\n",
    "    sudeste_ids = estado_regiao[estado_regiao['regiao'] == 'Sudeste']['id_estado'].tolist()\n",
    "    print(f\"IDs dos estados do Sudeste: {sudeste_ids}\")\n",
    "\n",
    "    # Filtrando os residentes da região Sudeste\n",
    "    residentes_sudeste = dados_pacientes[dados_pacientes['id_estado'].isin(sudeste_ids)]\n",
    "    total_sudeste = len(residentes_sudeste)\n",
    "    print(f\"Total de residentes na região Sudeste: {total_sudeste}\")\n",
    "\n",
    "    # Criando o histograma das idades com 20 barras\n",
    "    plt.figure(figsize=(10, 6))\n",
    "    plt.hist(residentes_sudeste['idade'], bins=20, edgecolor='black', color='skyblue')\n",
    "    plt.title('Distribuição das Idades dos Residentes na Região Sudeste')\n",
    "    plt.xlabel('Idade')\n",
    "    plt.ylabel('Frequência')\n",
    "    plt.grid(True, linestyle='--', alpha=0.7)\n",
    "    plt.show()\n",
    "\n",
    "    # Exibindo estatísticas básicas para ajudar na escolha da opção\n",
    "    print(\"\\nDescrição das idades na região Sudeste:\")\n",
    "    print(residentes_sudeste['idade'].describe())\n",
    "\n",
    "except FileNotFoundError as e:\n",
    "    print(f\"Erro: Um dos arquivos não foi encontrado. Verifique os caminhos: {e}\")\n",
    "except Exception as e:\n",
    "    print(f\"Erro inesperado: {e}\")"
   ]
  },
  {
   "cell_type": "code",
   "execution_count": null,
   "metadata": {},
   "outputs": [],
   "source": []
  }
 ],
 "metadata": {
  "kernelspec": {
   "display_name": "Python 3",
   "language": "python",
   "name": "python3"
  },
  "language_info": {
   "codemirror_mode": {
    "name": "ipython",
    "version": 3
   },
   "file_extension": ".py",
   "mimetype": "text/x-python",
   "name": "python",
   "nbconvert_exporter": "python",
   "pygments_lexer": "ipython3",
   "version": "3.12.1"
  }
 },
 "nbformat": 4,
 "nbformat_minor": 2
}
