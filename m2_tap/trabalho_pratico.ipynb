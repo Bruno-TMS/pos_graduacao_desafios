{
 "cells": [
  {
   "cell_type": "code",
   "execution_count": 54,
   "metadata": {},
   "outputs": [],
   "source": [
    "from pathlib import Path\n",
    "import pandas as pd\n",
    "from datetime import datetime\n",
    "\n",
    "pth_base = Path('.','base')\n",
    "pth_base_originais = Path(pth_base, 'originais')\n",
    "pth_base_editados =  Path(pth_base, 'editados')\n",
    "\n",
    "for pth in [pth_base, pth_base_originais, pth_base_editados]:\n",
    "    Path.mkdir(pth, exist_ok=True)\n",
    "\n",
    "for csv in [csv for csv in pth_base.glob('*.csv')]:\n",
    "    destino = Path(pth_base_originais, csv.name)\n",
    "    csv.replace(destino)\n",
    "\n",
    "pth_origins = [csv.absolute() for csv in pth_base_originais.glob('*.csv')]\n",
    "\n",
    "dt_frames = [pd.read_csv(csv, sep='|', encoding='latin-1') for csv in pth_origins]\n",
    "\n",
    "dtf = pd.concat(dt_frames)\n",
    "\n",
    "pth_concact = Path(pth_base_editados,'concat_base.csv')\n",
    "dtf.to_csv(pth_concact, sep=';', encoding='utf-8', index=False)\n",
    "\n",
    "df_concat_base = pd.read_csv(pth_concact, sep=';', encoding='utf-8')\n"
   ]
  },
  {
   "cell_type": "code",
   "execution_count": 6,
   "metadata": {},
   "outputs": [
    {
     "name": "stdout",
     "output_type": "stream",
     "text": [
      "<class 'pandas.core.frame.DataFrame'>\n",
      "RangeIndex: 2127 entries, 0 to 2126\n",
      "Data columns (total 8 columns):\n",
      " #   Column            Non-Null Count  Dtype \n",
      "---  ------            --------------  ----- \n",
      " 0   cod_pessoa        2127 non-null   int64 \n",
      " 1   data_coleta       2127 non-null   object\n",
      " 2   genero            2127 non-null   object\n",
      " 3   data_nascimento   2127 non-null   object\n",
      " 4   animal_estimacao  2127 non-null   object\n",
      " 5   clima             2127 non-null   object\n",
      " 6   bebida_favorita   2127 non-null   object\n",
      " 7   hobbies           2127 non-null   object\n",
      "dtypes: int64(1), object(7)\n",
      "memory usage: 133.1+ KB\n"
     ]
    }
   ],
   "source": [
    "df_concat_base.info()"
   ]
  },
  {
   "cell_type": "code",
   "execution_count": 7,
   "metadata": {},
   "outputs": [
    {
     "data": {
      "text/plain": [
       "<bound method NDFrame.describe of       cod_pessoa data_coleta     genero data_nascimento animal_estimacao  \\\n",
       "0       10141535  2020-08-22   Feminino      1957-07-25         cachorro   \n",
       "1       10142449  2020-08-22  Masculino      1969-12-09         cachorro   \n",
       "2       10142735  2020-08-22  Masculino      1978-11-15            peixe   \n",
       "3       10143016  2020-08-22  Masculino      1988-12-20        tartaruga   \n",
       "4       10143094  2020-08-22  Masculino      1980-05-22        tartaruga   \n",
       "...          ...         ...        ...             ...              ...   \n",
       "2122    10143233  2020-01-06  Masculino      1987-02-25        tartaruga   \n",
       "2123    10142037  2020-08-10   Feminino      1977-08-18             gato   \n",
       "2124    10142592  2020-08-10  Masculino      1964-09-05        tartaruga   \n",
       "2125    10143378  2020-08-10  Masculino      1970-04-26         cachorro   \n",
       "2126    10143442  2020-08-10   Feminino      1970-11-18         cachorro   \n",
       "\n",
       "         clima bebida_favorita             hobbies  \n",
       "0       quente    refrigerante         Assistir TV  \n",
       "1     moderado         Cerveja  Aprender algo novo  \n",
       "2     moderado            Café          Ler livros  \n",
       "3     moderado             Chá    Praticar esporte  \n",
       "4       quente             Chá            Escrever  \n",
       "...        ...             ...                 ...  \n",
       "2122    quente         Cerveja      Pintar quadros  \n",
       "2123  moderado         Cerveja          Ler livros  \n",
       "2124    quente            Água  Aprender algo novo  \n",
       "2125  moderado            Água            Escrever  \n",
       "2126    quente           Vinho              Dormir  \n",
       "\n",
       "[2127 rows x 8 columns]>"
      ]
     },
     "execution_count": 7,
     "metadata": {},
     "output_type": "execute_result"
    }
   ],
   "source": [
    "df_concat_base.describe"
   ]
  },
  {
   "cell_type": "code",
   "execution_count": 8,
   "metadata": {},
   "outputs": [
    {
     "data": {
      "text/html": [
       "<div>\n",
       "<style scoped>\n",
       "    .dataframe tbody tr th:only-of-type {\n",
       "        vertical-align: middle;\n",
       "    }\n",
       "\n",
       "    .dataframe tbody tr th {\n",
       "        vertical-align: top;\n",
       "    }\n",
       "\n",
       "    .dataframe thead th {\n",
       "        text-align: right;\n",
       "    }\n",
       "</style>\n",
       "<table border=\"1\" class=\"dataframe\">\n",
       "  <thead>\n",
       "    <tr style=\"text-align: right;\">\n",
       "      <th></th>\n",
       "      <th>cod_pessoa</th>\n",
       "      <th>data_coleta</th>\n",
       "      <th>genero</th>\n",
       "      <th>data_nascimento</th>\n",
       "      <th>animal_estimacao</th>\n",
       "      <th>clima</th>\n",
       "      <th>bebida_favorita</th>\n",
       "      <th>hobbies</th>\n",
       "    </tr>\n",
       "  </thead>\n",
       "  <tbody>\n",
       "    <tr>\n",
       "      <th>0</th>\n",
       "      <td>10141535</td>\n",
       "      <td>2020-08-22</td>\n",
       "      <td>Feminino</td>\n",
       "      <td>1957-07-25</td>\n",
       "      <td>cachorro</td>\n",
       "      <td>quente</td>\n",
       "      <td>refrigerante</td>\n",
       "      <td>Assistir TV</td>\n",
       "    </tr>\n",
       "    <tr>\n",
       "      <th>1</th>\n",
       "      <td>10142449</td>\n",
       "      <td>2020-08-22</td>\n",
       "      <td>Masculino</td>\n",
       "      <td>1969-12-09</td>\n",
       "      <td>cachorro</td>\n",
       "      <td>moderado</td>\n",
       "      <td>Cerveja</td>\n",
       "      <td>Aprender algo novo</td>\n",
       "    </tr>\n",
       "    <tr>\n",
       "      <th>2</th>\n",
       "      <td>10142735</td>\n",
       "      <td>2020-08-22</td>\n",
       "      <td>Masculino</td>\n",
       "      <td>1978-11-15</td>\n",
       "      <td>peixe</td>\n",
       "      <td>moderado</td>\n",
       "      <td>Café</td>\n",
       "      <td>Ler livros</td>\n",
       "    </tr>\n",
       "  </tbody>\n",
       "</table>\n",
       "</div>"
      ],
      "text/plain": [
       "   cod_pessoa data_coleta     genero data_nascimento animal_estimacao  \\\n",
       "0    10141535  2020-08-22   Feminino      1957-07-25         cachorro   \n",
       "1    10142449  2020-08-22  Masculino      1969-12-09         cachorro   \n",
       "2    10142735  2020-08-22  Masculino      1978-11-15            peixe   \n",
       "\n",
       "      clima bebida_favorita             hobbies  \n",
       "0    quente    refrigerante         Assistir TV  \n",
       "1  moderado         Cerveja  Aprender algo novo  \n",
       "2  moderado            Café          Ler livros  "
      ]
     },
     "execution_count": 8,
     "metadata": {},
     "output_type": "execute_result"
    }
   ],
   "source": [
    "df_concat_base.head(3)"
   ]
  },
  {
   "cell_type": "code",
   "execution_count": 9,
   "metadata": {},
   "outputs": [],
   "source": [
    "has_nulos = df_concat_base.isna().sum().any()\n",
    "if has_nulos:\n",
    "    df_concat_base = df_concat_base.dropna()\n",
    "\n",
    "has_duplicatas = df_concat_base.duplicated().any()\n",
    "if has_duplicatas:\n",
    "    df_concat_base = df_concat_base.drop_duplicates()"
   ]
  },
  {
   "cell_type": "code",
   "execution_count": 10,
   "metadata": {},
   "outputs": [
    {
     "data": {
      "text/html": [
       "<div>\n",
       "<style scoped>\n",
       "    .dataframe tbody tr th:only-of-type {\n",
       "        vertical-align: middle;\n",
       "    }\n",
       "\n",
       "    .dataframe tbody tr th {\n",
       "        vertical-align: top;\n",
       "    }\n",
       "\n",
       "    .dataframe thead th {\n",
       "        text-align: right;\n",
       "    }\n",
       "</style>\n",
       "<table border=\"1\" class=\"dataframe\">\n",
       "  <thead>\n",
       "    <tr style=\"text-align: right;\">\n",
       "      <th></th>\n",
       "      <th>cod_pessoa</th>\n",
       "      <th>data_coleta</th>\n",
       "      <th>genero</th>\n",
       "      <th>data_nascimento</th>\n",
       "      <th>animal_estimacao</th>\n",
       "      <th>clima</th>\n",
       "      <th>bebida_favorita</th>\n",
       "      <th>hobbies</th>\n",
       "    </tr>\n",
       "  </thead>\n",
       "  <tbody>\n",
       "    <tr>\n",
       "      <th>0</th>\n",
       "      <td>10141535</td>\n",
       "      <td>2020-08-22</td>\n",
       "      <td>Feminino</td>\n",
       "      <td>1957-07-25</td>\n",
       "      <td>cachorro</td>\n",
       "      <td>quente</td>\n",
       "      <td>refrigerante</td>\n",
       "      <td>Assistir TV</td>\n",
       "    </tr>\n",
       "    <tr>\n",
       "      <th>1</th>\n",
       "      <td>10142449</td>\n",
       "      <td>2020-08-22</td>\n",
       "      <td>Masculino</td>\n",
       "      <td>1969-12-09</td>\n",
       "      <td>cachorro</td>\n",
       "      <td>moderado</td>\n",
       "      <td>Cerveja</td>\n",
       "      <td>Aprender algo novo</td>\n",
       "    </tr>\n",
       "    <tr>\n",
       "      <th>2</th>\n",
       "      <td>10142735</td>\n",
       "      <td>2020-08-22</td>\n",
       "      <td>Masculino</td>\n",
       "      <td>1978-11-15</td>\n",
       "      <td>peixe</td>\n",
       "      <td>moderado</td>\n",
       "      <td>Café</td>\n",
       "      <td>Ler livros</td>\n",
       "    </tr>\n",
       "    <tr>\n",
       "      <th>3</th>\n",
       "      <td>10143016</td>\n",
       "      <td>2020-08-22</td>\n",
       "      <td>Masculino</td>\n",
       "      <td>1988-12-20</td>\n",
       "      <td>tartaruga</td>\n",
       "      <td>moderado</td>\n",
       "      <td>Chá</td>\n",
       "      <td>Praticar esporte</td>\n",
       "    </tr>\n",
       "    <tr>\n",
       "      <th>4</th>\n",
       "      <td>10143094</td>\n",
       "      <td>2020-08-22</td>\n",
       "      <td>Masculino</td>\n",
       "      <td>1980-05-22</td>\n",
       "      <td>tartaruga</td>\n",
       "      <td>quente</td>\n",
       "      <td>Chá</td>\n",
       "      <td>Escrever</td>\n",
       "    </tr>\n",
       "    <tr>\n",
       "      <th>...</th>\n",
       "      <td>...</td>\n",
       "      <td>...</td>\n",
       "      <td>...</td>\n",
       "      <td>...</td>\n",
       "      <td>...</td>\n",
       "      <td>...</td>\n",
       "      <td>...</td>\n",
       "      <td>...</td>\n",
       "    </tr>\n",
       "    <tr>\n",
       "      <th>2122</th>\n",
       "      <td>10143233</td>\n",
       "      <td>2020-01-06</td>\n",
       "      <td>Masculino</td>\n",
       "      <td>1987-02-25</td>\n",
       "      <td>tartaruga</td>\n",
       "      <td>quente</td>\n",
       "      <td>Cerveja</td>\n",
       "      <td>Pintar quadros</td>\n",
       "    </tr>\n",
       "    <tr>\n",
       "      <th>2123</th>\n",
       "      <td>10142037</td>\n",
       "      <td>2020-08-10</td>\n",
       "      <td>Feminino</td>\n",
       "      <td>1977-08-18</td>\n",
       "      <td>gato</td>\n",
       "      <td>moderado</td>\n",
       "      <td>Cerveja</td>\n",
       "      <td>Ler livros</td>\n",
       "    </tr>\n",
       "    <tr>\n",
       "      <th>2124</th>\n",
       "      <td>10142592</td>\n",
       "      <td>2020-08-10</td>\n",
       "      <td>Masculino</td>\n",
       "      <td>1964-09-05</td>\n",
       "      <td>tartaruga</td>\n",
       "      <td>quente</td>\n",
       "      <td>Água</td>\n",
       "      <td>Aprender algo novo</td>\n",
       "    </tr>\n",
       "    <tr>\n",
       "      <th>2125</th>\n",
       "      <td>10143378</td>\n",
       "      <td>2020-08-10</td>\n",
       "      <td>Masculino</td>\n",
       "      <td>1970-04-26</td>\n",
       "      <td>cachorro</td>\n",
       "      <td>moderado</td>\n",
       "      <td>Água</td>\n",
       "      <td>Escrever</td>\n",
       "    </tr>\n",
       "    <tr>\n",
       "      <th>2126</th>\n",
       "      <td>10143442</td>\n",
       "      <td>2020-08-10</td>\n",
       "      <td>Feminino</td>\n",
       "      <td>1970-11-18</td>\n",
       "      <td>cachorro</td>\n",
       "      <td>quente</td>\n",
       "      <td>Vinho</td>\n",
       "      <td>Dormir</td>\n",
       "    </tr>\n",
       "  </tbody>\n",
       "</table>\n",
       "<p>2127 rows × 8 columns</p>\n",
       "</div>"
      ],
      "text/plain": [
       "      cod_pessoa data_coleta     genero data_nascimento animal_estimacao  \\\n",
       "0       10141535  2020-08-22   Feminino      1957-07-25         cachorro   \n",
       "1       10142449  2020-08-22  Masculino      1969-12-09         cachorro   \n",
       "2       10142735  2020-08-22  Masculino      1978-11-15            peixe   \n",
       "3       10143016  2020-08-22  Masculino      1988-12-20        tartaruga   \n",
       "4       10143094  2020-08-22  Masculino      1980-05-22        tartaruga   \n",
       "...          ...         ...        ...             ...              ...   \n",
       "2122    10143233  2020-01-06  Masculino      1987-02-25        tartaruga   \n",
       "2123    10142037  2020-08-10   Feminino      1977-08-18             gato   \n",
       "2124    10142592  2020-08-10  Masculino      1964-09-05        tartaruga   \n",
       "2125    10143378  2020-08-10  Masculino      1970-04-26         cachorro   \n",
       "2126    10143442  2020-08-10   Feminino      1970-11-18         cachorro   \n",
       "\n",
       "         clima bebida_favorita             hobbies  \n",
       "0       quente    refrigerante         Assistir TV  \n",
       "1     moderado         Cerveja  Aprender algo novo  \n",
       "2     moderado            Café          Ler livros  \n",
       "3     moderado             Chá    Praticar esporte  \n",
       "4       quente             Chá            Escrever  \n",
       "...        ...             ...                 ...  \n",
       "2122    quente         Cerveja      Pintar quadros  \n",
       "2123  moderado         Cerveja          Ler livros  \n",
       "2124    quente            Água  Aprender algo novo  \n",
       "2125  moderado            Água            Escrever  \n",
       "2126    quente           Vinho              Dormir  \n",
       "\n",
       "[2127 rows x 8 columns]"
      ]
     },
     "execution_count": 10,
     "metadata": {},
     "output_type": "execute_result"
    }
   ],
   "source": [
    "df_concat_base"
   ]
  },
  {
   "cell_type": "code",
   "execution_count": 24,
   "metadata": {},
   "outputs": [
    {
     "data": {
      "text/plain": [
       "animal_estimacao\n",
       "gato         279\n",
       "peixe        158\n",
       "tartaruga    149\n",
       "cachorro     143\n",
       "Name: count, dtype: int64"
      ]
     },
     "execution_count": 24,
     "metadata": {},
     "output_type": "execute_result"
    }
   ],
   "source": [
    "\n",
    "df_mulheres = df_concat_base[lambda ln: ln['genero'] == \"Feminino\"]\n",
    "df_mulheres.value_counts(\"animal_estimacao\")\n"
   ]
  },
  {
   "cell_type": "code",
   "execution_count": 32,
   "metadata": {},
   "outputs": [
    {
     "data": {
      "text/plain": [
       "1278"
      ]
     },
     "execution_count": 32,
     "metadata": {},
     "output_type": "execute_result"
    }
   ],
   "source": [
    "\"\"\"Qual é a soma das pessoas que gostam de cachorro ou gato?\"\"\"\n",
    "\n",
    "ma_fe_g_c = df_concat_base[lambda ln: ln[\"animal_estimacao\"].isin([\"gato\",\"cachorro\"])]\n",
    "soma_pessoas = len(ma_fe_g_c)\n",
    "soma_pessoas"
   ]
  },
  {
   "cell_type": "code",
   "execution_count": 37,
   "metadata": {},
   "outputs": [
    {
     "data": {
      "text/plain": [
       "472"
      ]
     },
     "execution_count": 37,
     "metadata": {},
     "output_type": "execute_result"
    }
   ],
   "source": [
    "\"\"\"Quantos homens preferem o clima frio?\"\"\"\n",
    "ma_frio = df_concat_base[lambda ln: (ln[\"genero\"]==\"Masculino\") & (ln[\"clima\"]==\"frio\")]\n",
    "soma_ma_frio = len(ma_frio)\n",
    "soma_ma_frio"
   ]
  },
  {
   "cell_type": "code",
   "execution_count": 63,
   "metadata": {},
   "outputs": [
    {
     "name": "stdout",
     "output_type": "stream",
     "text": [
      "Média de idade dos homens que preferem chá e clima frio: 45.85 anos\n"
     ]
    }
   ],
   "source": [
    "df_concat_base[\"data_nascimento\"] = pd.to_datetime(df_concat_base[\"data_nascimento\"])\n",
    "data_atual = datetime(2023, 12, 31)\n",
    "df_concat_base[\"idade\"] = df_concat_base[\"data_nascimento\"].apply(\n",
    "    lambda x: data_atual.year - x.year - ((data_atual.month, data_atual.day) < (x.month, x.day))\n",
    ")\n",
    "\n",
    "ma_frio_cha = df_concat_base[lambda ln: (ln[\"genero\"] == \"Masculino\") & \n",
    "                                       (ln[\"clima\"] == \"frio\") & \n",
    "                                       (ln[\"bebida_favorita\"] == \"Chá\")]\n",
    "media_idade = ma_frio_cha[\"idade\"].mean()\n",
    "print(f\"Média de idade dos homens que preferem chá e clima frio: {media_idade:.2f} anos\")"
   ]
  },
  {
   "cell_type": "code",
   "execution_count": 69,
   "metadata": {},
   "outputs": [
    {
     "data": {
      "text/plain": [
       "414"
      ]
     },
     "execution_count": 69,
     "metadata": {},
     "output_type": "execute_result"
    }
   ],
   "source": [
    "\"Quantos participantes da pesquisa gostam de cachorro?\"\n",
    "\n",
    "df_m_f_c = df_concat_base[lambda ln: ln[\"animal_estimacao\"] == \"cachorro\"]\n",
    "len(df_m_f_c)"
   ]
  },
  {
   "cell_type": "code",
   "execution_count": null,
   "metadata": {},
   "outputs": [
    {
     "name": "stdout",
     "output_type": "stream",
     "text": [
      "Hobby de menor preferência entre homens: Escutar música (153 ocorrências)\n"
     ]
    }
   ],
   "source": [
    "\"\"\"Qual é o hobby de menor preferência para os homens?\"\"\"\n",
    "df_m_h = df_concat_base[lambda ln: ln[\"genero\"] == \"Masculino\"][\"hobbies\"]\n",
    "\n",
    "contagem_hobbies = df_m_h.value_counts()\n",
    "# Hobby de menor preferência\n",
    "hobby_maior = contagem_hobbies.idxmin()\n",
    "frequencia_maior = contagem_hobbies.min()\n",
    "\n",
    "print(f\"Hobby de menor preferência entre homens: {hobby_maior} ({frequencia_maior} ocorrências)\")"
   ]
  },
  {
   "cell_type": "code",
   "execution_count": 82,
   "metadata": {},
   "outputs": [
    {
     "name": "stdout",
     "output_type": "stream",
     "text": [
      "hobbies\n",
      "Dormir                184\n",
      "Aprender algo novo    183\n",
      "Escrever              182\n",
      "Ler livros            177\n",
      "Praticar esporte      175\n",
      "Assistir TV           173\n",
      "Pintar quadros        171\n",
      "Escutar música        153\n",
      "Name: count, dtype: int64\n",
      "Hobby de maior preferência entre mulheres: Dormir (184 ocorrências)\n"
     ]
    }
   ],
   "source": [
    "\"\"\"Qual o hobby de maior preferência entre as mulheres?\"\"\"\n",
    "\n",
    "df_f_h = df_concat_base[lambda ln: ln[\"genero\"] == \"Feminino\"][\"hobbies\"]\n",
    "\n",
    "contagem_hobbies = df_m_h.value_counts()\n",
    "print(contagem_hobbies)\n",
    "# Hobby de menor preferência\n",
    "hobby_maior = contagem_hobbies.idxmax()\n",
    "frequencia_maior = contagem_hobbies.max()\n",
    "\n",
    "print(f\"Hobby de maior preferência entre mulheres: {hobby_maior} ({frequencia_maior} ocorrências)\")"
   ]
  },
  {
   "cell_type": "code",
   "execution_count": 88,
   "metadata": {},
   "outputs": [
    {
     "data": {
      "image/png": "[encoded data removed]",
      "text/plain": [
       "<Figure size 640x480 with 1 Axes>"
      ]
     },
     "metadata": {},
     "output_type": "display_data"
    },
    {
     "name": "stdout",
     "output_type": "stream",
     "text": [
      "Número de homens que gostam de praticar esportes: 175\n"
     ]
    }
   ],
   "source": [
    "\"\"\"Crie um gráfico de histograma com 20 barras das idades de todos os homens que gostam de praticar esportes.\"\"\"\n",
    "import pandas as pd\n",
    "import matplotlib.pyplot as plt\n",
    "\n",
    "# Filtrar homens que gostam de praticar esportes\n",
    "df_mas_hob_esp = df_concat_base[lambda ln: (ln[\"genero\"] == \"Masculino\") & (ln[\"hobbies\"] == \"Praticar esporte\")]\n",
    "\n",
    "# Criar o histograma com 20 barras\n",
    "plt.hist(df_mas_hob_esp[\"idade\"], bins=20, edgecolor=\"black\")\n",
    "plt.title(\"Histograma das Idades dos Homens que Gostam de Praticar Esportes\")\n",
    "plt.xlabel(\"Idade\")\n",
    "plt.ylabel(\"Frequência\")\n",
    "plt.grid(True, alpha=0.3)\n",
    "plt.show()\n",
    "\n",
    "# Opcional: Contar o número de homens\n",
    "quantidade = len(df_mas_hob_esp)\n",
    "print(f\"Número de homens que gostam de praticar esportes: {quantidade}\")"
   ]
  },
  {
   "cell_type": "code",
   "execution_count": null,
   "metadata": {},
   "outputs": [],
   "source": []
  },
  {
   "cell_type": "code",
   "execution_count": 89,
   "metadata": {},
   "outputs": [
    {
     "name": "stdout",
     "output_type": "stream",
     "text": [
      "Proporção entre homens e mulheres (homens/mulheres): 1.78\n",
      "\n",
      "Contagem detalhada:\n",
      "Homens: 32\n",
      "Mulheres: 18\n"
     ]
    }
   ],
   "source": [
    "import pandas as pd\n",
    "\n",
    "# Filtrar participantes que gostam de cachorro e ler livros\n",
    "df_cachorro_livros = df_concat_base[\n",
    "    (df_concat_base[\"animal_estimacao\"] == \"cachorro\") & \n",
    "    (df_concat_base[\"hobbies\"] == \"Ler livros\")\n",
    "]\n",
    "\n",
    "# Contar homens e mulheres\n",
    "contagem_genero = df_cachorro_livros[\"genero\"].value_counts()\n",
    "num_homens = contagem_genero.get(\"Masculino\", 0)  # Retorna 0 se não houver homens\n",
    "num_mulheres = contagem_genero.get(\"Feminino\", 0)  # Retorna 0 se não houver mulheres\n",
    "\n",
    "# Calcular a proporção (homens / mulheres)\n",
    "if num_mulheres > 0:  # Evitar divisão por zero\n",
    "    proporcao = num_homens / num_mulheres\n",
    "    print(f\"Proporção entre homens e mulheres (homens/mulheres): {proporcao:.2f}\")\n",
    "else:\n",
    "    print(\"Não há mulheres no grupo filtrado para calcular a proporção.\")\n",
    "\n",
    "# Mostrar contagem detalhada\n",
    "print(f\"\\nContagem detalhada:\")\n",
    "print(f\"Homens: {num_homens}\")\n",
    "print(f\"Mulheres: {num_mulheres}\")"
   ]
  },
  {
   "cell_type": "code",
   "execution_count": 90,
   "metadata": {},
   "outputs": [
    {
     "name": "stdout",
     "output_type": "stream",
     "text": [
      "Desvio padrão das idades das pessoas que gostam de assistir TV: 14.32 anos\n"
     ]
    }
   ],
   "source": [
    "import pandas as pd\n",
    "\n",
    "# Filtrar pessoas que têm o hobby \"Assistir TV\"\n",
    "df_hobby_tv = df_concat_base[df_concat_base[\"hobbies\"] == \"Assistir TV\"]\n",
    "\n",
    "# Calcular o desvio padrão das idades\n",
    "desvio_padrao = df_hobby_tv[\"idade\"].std()\n",
    "\n",
    "print(f\"Desvio padrão das idades das pessoas que gostam de assistir TV: {desvio_padrao:.2f} anos\")"
   ]
  }
 ],
 "metadata": {
  "kernelspec": {
   "display_name": "Python 3",
   "language": "python",
   "name": "python3"
  },
  "language_info": {
   "codemirror_mode": {
    "name": "ipython",
    "version": 3
   },
   "file_extension": ".py",
   "mimetype": "text/x-python",
   "name": "python",
   "nbconvert_exporter": "python",
   "pygments_lexer": "ipython3",
   "version": "3.12.1"
  }
 },
 "nbformat": 4,
 "nbformat_minor": 2
}
